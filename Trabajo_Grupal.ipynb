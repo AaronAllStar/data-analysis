{
  "nbformat": 4,
  "nbformat_minor": 0,
  "metadata": {
    "colab": {
      "provenance": [],
      "toc_visible": true,
      "include_colab_link": true
    },
    "kernelspec": {
      "name": "python3",
      "display_name": "Python 3"
    },
    "language_info": {
      "name": "python"
    }
  },
  "cells": [
    {
      "cell_type": "markdown",
      "metadata": {
        "id": "view-in-github",
        "colab_type": "text"
      },
      "source": [
        "<a href=\"https://colab.research.google.com/github/AaronAllStar/data-analysis/blob/main/Trabajo_Grupal.ipynb\" target=\"_parent\"><img src=\"https://colab.research.google.com/assets/colab-badge.svg\" alt=\"Open In Colab\"/></a>"
      ]
    },
    {
      "cell_type": "markdown",
      "source": [
        "#Trabajo Grupal 1\n",
        "\n",
        "Materia: Introducción a las ciencias de datos\n",
        "\n",
        "Profesor: Alejandro Zamora\n",
        "\n",
        "Integrantes: María Arias, Aaron Medrano, Julián Solano"
      ],
      "metadata": {
        "id": "bQSAoSaxoof-"
      }
    },
    {
      "cell_type": "markdown",
      "source": [
        "**1) Conocimiento del dataset**"
      ],
      "metadata": {
        "id": "hdcotWuUiRdj"
      }
    },
    {
      "cell_type": "markdown",
      "source": [
        "•\tContexto: Datos de jugadores en partidos (dataset vinculado a World Cup /\n",
        "partidos), con registros por jugador en eventos/partidos.\n",
        "\n",
        "•\tDimensiones: 37,784 filas y 9 columnas.\n",
        "\n",
        "•\tColumnas (principales / primeras): RoundID, MatchID, Team Initials, Coach Name, Line-up, Shirt Number, Player Name, Position, Event.\n"
      ],
      "metadata": {
        "id": "kSmZV8eti5y3"
      }
    },
    {
      "cell_type": "markdown",
      "source": [
        "**2) Exploración inicial**"
      ],
      "metadata": {
        "id": "voPzB2MzjDUJ"
      }
    },
    {
      "cell_type": "markdown",
      "source": [
        "**•\tTipos de variables:**\n",
        "\n",
        "  Columnas numéricas detectadas: 3 (varias métricas numéricas).\n",
        "  Columnas categóricas/texto: 6 (p. ej. Player Name, Coach Name, Team Initials, Line-up, Position, Event).\n",
        "\n",
        "**•\tValores faltantes:**\n",
        "\n",
        "  Position tiene 33,641 valores faltantes.\n",
        "  Event tiene 28,715 valores faltantes.\n",
        "  Las demás columnas (RoundID, MatchID, Team Initials, Coach Name, Line-up, Shirt Number, Player Name) no muestran faltantes significativos.\n",
        "\n",
        "**•\tObservaciones / datos poco confiables:**\n",
        "\n",
        "  Muchas filas no tienen Position ni Event, lo que sugiere que el dataset reúne distintos tipos de registros (algunos con detalle de evento y otros solo con plantilla/line-up).\n",
        "  Hay redundancia posible en columnas tipo Line-up que puede contener cadenas largas (listados de jugadores).\n",
        "\n",
        "**•\tPatrones detectados rápidamente:**\n",
        "\n",
        "  El dataset es muy centrado en identificadores de partido/equipo y en plantillas; no hay columnas típicas de FIFA (por ejemplo overall, potential, age) en este archivo concreto, por lo que los análisis sobre “calidad” del jugador no son aplicables aquí sin combinar con otro dataset.\n"
      ],
      "metadata": {
        "id": "_CF_g447jIpf"
      }
    },
    {
      "cell_type": "markdown",
      "source": [
        "**3) Formulación de preguntas (mínimo 3)**\n"
      ],
      "metadata": {
        "id": "eOOByRGbkjUz"
      }
    },
    {
      "cell_type": "markdown",
      "source": [
        "1.\t¿Qué proporción de registros corresponde a jugadores listados en la alineación (Line-up) frente a registros de eventos (Event)?\n",
        "\n",
        "2.\t¿Qué equipos (por Team Initials) aparecen con más frecuencia en el dataset?\n",
        "\n",
        "3.\t¿Se pueden extraer patrones temporales por RoundID / MatchID (p. ej. mayor número de eventos en determinadas rondas)?\n",
        "(Extras) Si tuviéramos la columna Position completa: ¿qué posiciones aparecen con más frecuencia por equipo?\n"
      ],
      "metadata": {
        "id": "cBjVkZevkZjL"
      }
    },
    {
      "cell_type": "markdown",
      "source": [
        "1. Importar las librerías"
      ],
      "metadata": {
        "id": "RLNE70VWZ7RB"
      }
    },
    {
      "cell_type": "code",
      "execution_count": null,
      "metadata": {
        "id": "MlvFC9_vYd7g"
      },
      "outputs": [],
      "source": [
        "import pandas as pd\n",
        "import numpy as np\n",
        "import matplotlib.pyplot as plt\n",
        "import seaborn as sns"
      ]
    },
    {
      "cell_type": "markdown",
      "source": [
        "2. Leer el csv"
      ],
      "metadata": {
        "id": "Anob4bhvaBUY"
      }
    },
    {
      "cell_type": "code",
      "source": [
        "df_fifa = pd.read_csv(\"https://raw.githubusercontent.com/AaronAllStar/data-analysis/refs/heads/main/FIFA%20(2)/WorldCupPlayers.csv\")\n",
        "#df_fifa.head() #Entrega los primeros 5\n",
        "df_fifa.tail(30) #Entrega los últimos 5"
      ],
      "metadata": {
        "colab": {
          "base_uri": "https://localhost:8080/",
          "height": 990
        },
        "id": "UFSGLbJ1aoXx",
        "outputId": "c319f14e-1a7c-4e00-ca4c-6634171cf1e2"
      },
      "execution_count": 24,
      "outputs": [
        {
          "output_type": "execute_result",
          "data": {
            "text/plain": [
              "       RoundID    MatchID Team Initials               Coach Name Line-up  \\\n",
              "37754   255959  300186501           GER       LOEW Joachim (GER)       S   \n",
              "37755   255959  300186501           ARG  SABELLA Alejandro (ARG)       S   \n",
              "37756   255959  300186501           GER       LOEW Joachim (GER)       S   \n",
              "37757   255959  300186501           ARG  SABELLA Alejandro (ARG)       S   \n",
              "37758   255959  300186501           GER       LOEW Joachim (GER)       S   \n",
              "37759   255959  300186501           ARG  SABELLA Alejandro (ARG)       S   \n",
              "37760   255959  300186501           GER       LOEW Joachim (GER)       N   \n",
              "37761   255959  300186501           ARG  SABELLA Alejandro (ARG)       N   \n",
              "37762   255959  300186501           GER       LOEW Joachim (GER)       N   \n",
              "37763   255959  300186501           ARG  SABELLA Alejandro (ARG)       N   \n",
              "37764   255959  300186501           GER       LOEW Joachim (GER)       N   \n",
              "37765   255959  300186501           ARG  SABELLA Alejandro (ARG)       N   \n",
              "37766   255959  300186501           GER       LOEW Joachim (GER)       N   \n",
              "37767   255959  300186501           ARG  SABELLA Alejandro (ARG)       N   \n",
              "37768   255959  300186501           GER       LOEW Joachim (GER)       N   \n",
              "37769   255959  300186501           ARG  SABELLA Alejandro (ARG)       N   \n",
              "37770   255959  300186501           GER       LOEW Joachim (GER)       N   \n",
              "37771   255959  300186501           ARG  SABELLA Alejandro (ARG)       N   \n",
              "37772   255959  300186501           GER       LOEW Joachim (GER)       N   \n",
              "37773   255959  300186501           ARG  SABELLA Alejandro (ARG)       N   \n",
              "37774   255959  300186501           GER       LOEW Joachim (GER)       N   \n",
              "37775   255959  300186501           ARG  SABELLA Alejandro (ARG)       N   \n",
              "37776   255959  300186501           GER       LOEW Joachim (GER)       N   \n",
              "37777   255959  300186501           ARG  SABELLA Alejandro (ARG)       N   \n",
              "37778   255959  300186501           GER       LOEW Joachim (GER)       N   \n",
              "37779   255959  300186501           ARG  SABELLA Alejandro (ARG)       N   \n",
              "37780   255959  300186501           GER       LOEW Joachim (GER)       N   \n",
              "37781   255959  300186501           ARG  SABELLA Alejandro (ARG)       N   \n",
              "37782   255959  300186501           GER       LOEW Joachim (GER)       N   \n",
              "37783   255959  300186501           ARG  SABELLA Alejandro (ARG)       N   \n",
              "\n",
              "       Shirt Number   Player Name Position       Event  \n",
              "37754            18         KROOS      NaN         NaN  \n",
              "37755            15    DEMICHELIS      NaN         NaN  \n",
              "37756            20       BOATENG      NaN         NaN  \n",
              "37757            16          ROJO      NaN         NaN  \n",
              "37758            23        KRAMER      NaN        O31'  \n",
              "37759            22       LAVEZZI      NaN       OH46'  \n",
              "37760            12        ZIELER       GK         NaN  \n",
              "37761            12         ORION       GK         NaN  \n",
              "37762            22  WEIDENFELLER       GK         NaN  \n",
              "37763            21       ANDUJAR       GK         NaN  \n",
              "37764             2    GRO�KREUTZ      NaN         NaN  \n",
              "37765             3    CAMPAGNARO      NaN         NaN  \n",
              "37766             3        GINTER      NaN         NaN  \n",
              "37767             5          GAGO      NaN        I86'  \n",
              "37768             9      SCH�RRLE      NaN        I31'  \n",
              "37769             7      DI MARIA      NaN         NaN  \n",
              "37770            10      PODOLSKI      NaN         NaN  \n",
              "37771            11  M. RODRIGUEZ      NaN         NaN  \n",
              "37772            14       DRAXLER      NaN         NaN  \n",
              "37773            13  A. FERNANDEZ      NaN         NaN  \n",
              "37774            15          DURM      NaN         NaN  \n",
              "37775            17  F. FERNANDEZ      NaN         NaN  \n",
              "37776            17   MERTESACKER      NaN       I120'  \n",
              "37777            18       PALACIO      NaN        I78'  \n",
              "37778            19         G�TZE      NaN  I88' G113'  \n",
              "37779            19       ALVAREZ      NaN         NaN  \n",
              "37780             6       KHEDIRA      NaN         NaN  \n",
              "37781            20        AGUERO      NaN  IH46' Y65'  \n",
              "37782            21       MUSTAFI      NaN         NaN  \n",
              "37783            23       BASANTA      NaN         NaN  "
            ],
            "text/html": [
              "\n",
              "  <div id=\"df-ae3a410c-5a9e-4573-a103-7524d70c4412\" class=\"colab-df-container\">\n",
              "    <div>\n",
              "<style scoped>\n",
              "    .dataframe tbody tr th:only-of-type {\n",
              "        vertical-align: middle;\n",
              "    }\n",
              "\n",
              "    .dataframe tbody tr th {\n",
              "        vertical-align: top;\n",
              "    }\n",
              "\n",
              "    .dataframe thead th {\n",
              "        text-align: right;\n",
              "    }\n",
              "</style>\n",
              "<table border=\"1\" class=\"dataframe\">\n",
              "  <thead>\n",
              "    <tr style=\"text-align: right;\">\n",
              "      <th></th>\n",
              "      <th>RoundID</th>\n",
              "      <th>MatchID</th>\n",
              "      <th>Team Initials</th>\n",
              "      <th>Coach Name</th>\n",
              "      <th>Line-up</th>\n",
              "      <th>Shirt Number</th>\n",
              "      <th>Player Name</th>\n",
              "      <th>Position</th>\n",
              "      <th>Event</th>\n",
              "    </tr>\n",
              "  </thead>\n",
              "  <tbody>\n",
              "    <tr>\n",
              "      <th>37754</th>\n",
              "      <td>255959</td>\n",
              "      <td>300186501</td>\n",
              "      <td>GER</td>\n",
              "      <td>LOEW Joachim (GER)</td>\n",
              "      <td>S</td>\n",
              "      <td>18</td>\n",
              "      <td>KROOS</td>\n",
              "      <td>NaN</td>\n",
              "      <td>NaN</td>\n",
              "    </tr>\n",
              "    <tr>\n",
              "      <th>37755</th>\n",
              "      <td>255959</td>\n",
              "      <td>300186501</td>\n",
              "      <td>ARG</td>\n",
              "      <td>SABELLA Alejandro (ARG)</td>\n",
              "      <td>S</td>\n",
              "      <td>15</td>\n",
              "      <td>DEMICHELIS</td>\n",
              "      <td>NaN</td>\n",
              "      <td>NaN</td>\n",
              "    </tr>\n",
              "    <tr>\n",
              "      <th>37756</th>\n",
              "      <td>255959</td>\n",
              "      <td>300186501</td>\n",
              "      <td>GER</td>\n",
              "      <td>LOEW Joachim (GER)</td>\n",
              "      <td>S</td>\n",
              "      <td>20</td>\n",
              "      <td>BOATENG</td>\n",
              "      <td>NaN</td>\n",
              "      <td>NaN</td>\n",
              "    </tr>\n",
              "    <tr>\n",
              "      <th>37757</th>\n",
              "      <td>255959</td>\n",
              "      <td>300186501</td>\n",
              "      <td>ARG</td>\n",
              "      <td>SABELLA Alejandro (ARG)</td>\n",
              "      <td>S</td>\n",
              "      <td>16</td>\n",
              "      <td>ROJO</td>\n",
              "      <td>NaN</td>\n",
              "      <td>NaN</td>\n",
              "    </tr>\n",
              "    <tr>\n",
              "      <th>37758</th>\n",
              "      <td>255959</td>\n",
              "      <td>300186501</td>\n",
              "      <td>GER</td>\n",
              "      <td>LOEW Joachim (GER)</td>\n",
              "      <td>S</td>\n",
              "      <td>23</td>\n",
              "      <td>KRAMER</td>\n",
              "      <td>NaN</td>\n",
              "      <td>O31'</td>\n",
              "    </tr>\n",
              "    <tr>\n",
              "      <th>37759</th>\n",
              "      <td>255959</td>\n",
              "      <td>300186501</td>\n",
              "      <td>ARG</td>\n",
              "      <td>SABELLA Alejandro (ARG)</td>\n",
              "      <td>S</td>\n",
              "      <td>22</td>\n",
              "      <td>LAVEZZI</td>\n",
              "      <td>NaN</td>\n",
              "      <td>OH46'</td>\n",
              "    </tr>\n",
              "    <tr>\n",
              "      <th>37760</th>\n",
              "      <td>255959</td>\n",
              "      <td>300186501</td>\n",
              "      <td>GER</td>\n",
              "      <td>LOEW Joachim (GER)</td>\n",
              "      <td>N</td>\n",
              "      <td>12</td>\n",
              "      <td>ZIELER</td>\n",
              "      <td>GK</td>\n",
              "      <td>NaN</td>\n",
              "    </tr>\n",
              "    <tr>\n",
              "      <th>37761</th>\n",
              "      <td>255959</td>\n",
              "      <td>300186501</td>\n",
              "      <td>ARG</td>\n",
              "      <td>SABELLA Alejandro (ARG)</td>\n",
              "      <td>N</td>\n",
              "      <td>12</td>\n",
              "      <td>ORION</td>\n",
              "      <td>GK</td>\n",
              "      <td>NaN</td>\n",
              "    </tr>\n",
              "    <tr>\n",
              "      <th>37762</th>\n",
              "      <td>255959</td>\n",
              "      <td>300186501</td>\n",
              "      <td>GER</td>\n",
              "      <td>LOEW Joachim (GER)</td>\n",
              "      <td>N</td>\n",
              "      <td>22</td>\n",
              "      <td>WEIDENFELLER</td>\n",
              "      <td>GK</td>\n",
              "      <td>NaN</td>\n",
              "    </tr>\n",
              "    <tr>\n",
              "      <th>37763</th>\n",
              "      <td>255959</td>\n",
              "      <td>300186501</td>\n",
              "      <td>ARG</td>\n",
              "      <td>SABELLA Alejandro (ARG)</td>\n",
              "      <td>N</td>\n",
              "      <td>21</td>\n",
              "      <td>ANDUJAR</td>\n",
              "      <td>GK</td>\n",
              "      <td>NaN</td>\n",
              "    </tr>\n",
              "    <tr>\n",
              "      <th>37764</th>\n",
              "      <td>255959</td>\n",
              "      <td>300186501</td>\n",
              "      <td>GER</td>\n",
              "      <td>LOEW Joachim (GER)</td>\n",
              "      <td>N</td>\n",
              "      <td>2</td>\n",
              "      <td>GRO�KREUTZ</td>\n",
              "      <td>NaN</td>\n",
              "      <td>NaN</td>\n",
              "    </tr>\n",
              "    <tr>\n",
              "      <th>37765</th>\n",
              "      <td>255959</td>\n",
              "      <td>300186501</td>\n",
              "      <td>ARG</td>\n",
              "      <td>SABELLA Alejandro (ARG)</td>\n",
              "      <td>N</td>\n",
              "      <td>3</td>\n",
              "      <td>CAMPAGNARO</td>\n",
              "      <td>NaN</td>\n",
              "      <td>NaN</td>\n",
              "    </tr>\n",
              "    <tr>\n",
              "      <th>37766</th>\n",
              "      <td>255959</td>\n",
              "      <td>300186501</td>\n",
              "      <td>GER</td>\n",
              "      <td>LOEW Joachim (GER)</td>\n",
              "      <td>N</td>\n",
              "      <td>3</td>\n",
              "      <td>GINTER</td>\n",
              "      <td>NaN</td>\n",
              "      <td>NaN</td>\n",
              "    </tr>\n",
              "    <tr>\n",
              "      <th>37767</th>\n",
              "      <td>255959</td>\n",
              "      <td>300186501</td>\n",
              "      <td>ARG</td>\n",
              "      <td>SABELLA Alejandro (ARG)</td>\n",
              "      <td>N</td>\n",
              "      <td>5</td>\n",
              "      <td>GAGO</td>\n",
              "      <td>NaN</td>\n",
              "      <td>I86'</td>\n",
              "    </tr>\n",
              "    <tr>\n",
              "      <th>37768</th>\n",
              "      <td>255959</td>\n",
              "      <td>300186501</td>\n",
              "      <td>GER</td>\n",
              "      <td>LOEW Joachim (GER)</td>\n",
              "      <td>N</td>\n",
              "      <td>9</td>\n",
              "      <td>SCH�RRLE</td>\n",
              "      <td>NaN</td>\n",
              "      <td>I31'</td>\n",
              "    </tr>\n",
              "    <tr>\n",
              "      <th>37769</th>\n",
              "      <td>255959</td>\n",
              "      <td>300186501</td>\n",
              "      <td>ARG</td>\n",
              "      <td>SABELLA Alejandro (ARG)</td>\n",
              "      <td>N</td>\n",
              "      <td>7</td>\n",
              "      <td>DI MARIA</td>\n",
              "      <td>NaN</td>\n",
              "      <td>NaN</td>\n",
              "    </tr>\n",
              "    <tr>\n",
              "      <th>37770</th>\n",
              "      <td>255959</td>\n",
              "      <td>300186501</td>\n",
              "      <td>GER</td>\n",
              "      <td>LOEW Joachim (GER)</td>\n",
              "      <td>N</td>\n",
              "      <td>10</td>\n",
              "      <td>PODOLSKI</td>\n",
              "      <td>NaN</td>\n",
              "      <td>NaN</td>\n",
              "    </tr>\n",
              "    <tr>\n",
              "      <th>37771</th>\n",
              "      <td>255959</td>\n",
              "      <td>300186501</td>\n",
              "      <td>ARG</td>\n",
              "      <td>SABELLA Alejandro (ARG)</td>\n",
              "      <td>N</td>\n",
              "      <td>11</td>\n",
              "      <td>M. RODRIGUEZ</td>\n",
              "      <td>NaN</td>\n",
              "      <td>NaN</td>\n",
              "    </tr>\n",
              "    <tr>\n",
              "      <th>37772</th>\n",
              "      <td>255959</td>\n",
              "      <td>300186501</td>\n",
              "      <td>GER</td>\n",
              "      <td>LOEW Joachim (GER)</td>\n",
              "      <td>N</td>\n",
              "      <td>14</td>\n",
              "      <td>DRAXLER</td>\n",
              "      <td>NaN</td>\n",
              "      <td>NaN</td>\n",
              "    </tr>\n",
              "    <tr>\n",
              "      <th>37773</th>\n",
              "      <td>255959</td>\n",
              "      <td>300186501</td>\n",
              "      <td>ARG</td>\n",
              "      <td>SABELLA Alejandro (ARG)</td>\n",
              "      <td>N</td>\n",
              "      <td>13</td>\n",
              "      <td>A. FERNANDEZ</td>\n",
              "      <td>NaN</td>\n",
              "      <td>NaN</td>\n",
              "    </tr>\n",
              "    <tr>\n",
              "      <th>37774</th>\n",
              "      <td>255959</td>\n",
              "      <td>300186501</td>\n",
              "      <td>GER</td>\n",
              "      <td>LOEW Joachim (GER)</td>\n",
              "      <td>N</td>\n",
              "      <td>15</td>\n",
              "      <td>DURM</td>\n",
              "      <td>NaN</td>\n",
              "      <td>NaN</td>\n",
              "    </tr>\n",
              "    <tr>\n",
              "      <th>37775</th>\n",
              "      <td>255959</td>\n",
              "      <td>300186501</td>\n",
              "      <td>ARG</td>\n",
              "      <td>SABELLA Alejandro (ARG)</td>\n",
              "      <td>N</td>\n",
              "      <td>17</td>\n",
              "      <td>F. FERNANDEZ</td>\n",
              "      <td>NaN</td>\n",
              "      <td>NaN</td>\n",
              "    </tr>\n",
              "    <tr>\n",
              "      <th>37776</th>\n",
              "      <td>255959</td>\n",
              "      <td>300186501</td>\n",
              "      <td>GER</td>\n",
              "      <td>LOEW Joachim (GER)</td>\n",
              "      <td>N</td>\n",
              "      <td>17</td>\n",
              "      <td>MERTESACKER</td>\n",
              "      <td>NaN</td>\n",
              "      <td>I120'</td>\n",
              "    </tr>\n",
              "    <tr>\n",
              "      <th>37777</th>\n",
              "      <td>255959</td>\n",
              "      <td>300186501</td>\n",
              "      <td>ARG</td>\n",
              "      <td>SABELLA Alejandro (ARG)</td>\n",
              "      <td>N</td>\n",
              "      <td>18</td>\n",
              "      <td>PALACIO</td>\n",
              "      <td>NaN</td>\n",
              "      <td>I78'</td>\n",
              "    </tr>\n",
              "    <tr>\n",
              "      <th>37778</th>\n",
              "      <td>255959</td>\n",
              "      <td>300186501</td>\n",
              "      <td>GER</td>\n",
              "      <td>LOEW Joachim (GER)</td>\n",
              "      <td>N</td>\n",
              "      <td>19</td>\n",
              "      <td>G�TZE</td>\n",
              "      <td>NaN</td>\n",
              "      <td>I88' G113'</td>\n",
              "    </tr>\n",
              "    <tr>\n",
              "      <th>37779</th>\n",
              "      <td>255959</td>\n",
              "      <td>300186501</td>\n",
              "      <td>ARG</td>\n",
              "      <td>SABELLA Alejandro (ARG)</td>\n",
              "      <td>N</td>\n",
              "      <td>19</td>\n",
              "      <td>ALVAREZ</td>\n",
              "      <td>NaN</td>\n",
              "      <td>NaN</td>\n",
              "    </tr>\n",
              "    <tr>\n",
              "      <th>37780</th>\n",
              "      <td>255959</td>\n",
              "      <td>300186501</td>\n",
              "      <td>GER</td>\n",
              "      <td>LOEW Joachim (GER)</td>\n",
              "      <td>N</td>\n",
              "      <td>6</td>\n",
              "      <td>KHEDIRA</td>\n",
              "      <td>NaN</td>\n",
              "      <td>NaN</td>\n",
              "    </tr>\n",
              "    <tr>\n",
              "      <th>37781</th>\n",
              "      <td>255959</td>\n",
              "      <td>300186501</td>\n",
              "      <td>ARG</td>\n",
              "      <td>SABELLA Alejandro (ARG)</td>\n",
              "      <td>N</td>\n",
              "      <td>20</td>\n",
              "      <td>AGUERO</td>\n",
              "      <td>NaN</td>\n",
              "      <td>IH46' Y65'</td>\n",
              "    </tr>\n",
              "    <tr>\n",
              "      <th>37782</th>\n",
              "      <td>255959</td>\n",
              "      <td>300186501</td>\n",
              "      <td>GER</td>\n",
              "      <td>LOEW Joachim (GER)</td>\n",
              "      <td>N</td>\n",
              "      <td>21</td>\n",
              "      <td>MUSTAFI</td>\n",
              "      <td>NaN</td>\n",
              "      <td>NaN</td>\n",
              "    </tr>\n",
              "    <tr>\n",
              "      <th>37783</th>\n",
              "      <td>255959</td>\n",
              "      <td>300186501</td>\n",
              "      <td>ARG</td>\n",
              "      <td>SABELLA Alejandro (ARG)</td>\n",
              "      <td>N</td>\n",
              "      <td>23</td>\n",
              "      <td>BASANTA</td>\n",
              "      <td>NaN</td>\n",
              "      <td>NaN</td>\n",
              "    </tr>\n",
              "  </tbody>\n",
              "</table>\n",
              "</div>\n",
              "    <div class=\"colab-df-buttons\">\n",
              "\n",
              "  <div class=\"colab-df-container\">\n",
              "    <button class=\"colab-df-convert\" onclick=\"convertToInteractive('df-ae3a410c-5a9e-4573-a103-7524d70c4412')\"\n",
              "            title=\"Convert this dataframe to an interactive table.\"\n",
              "            style=\"display:none;\">\n",
              "\n",
              "  <svg xmlns=\"http://www.w3.org/2000/svg\" height=\"24px\" viewBox=\"0 -960 960 960\">\n",
              "    <path d=\"M120-120v-720h720v720H120Zm60-500h600v-160H180v160Zm220 220h160v-160H400v160Zm0 220h160v-160H400v160ZM180-400h160v-160H180v160Zm440 0h160v-160H620v160ZM180-180h160v-160H180v160Zm440 0h160v-160H620v160Z\"/>\n",
              "  </svg>\n",
              "    </button>\n",
              "\n",
              "  <style>\n",
              "    .colab-df-container {\n",
              "      display:flex;\n",
              "      gap: 12px;\n",
              "    }\n",
              "\n",
              "    .colab-df-convert {\n",
              "      background-color: #E8F0FE;\n",
              "      border: none;\n",
              "      border-radius: 50%;\n",
              "      cursor: pointer;\n",
              "      display: none;\n",
              "      fill: #1967D2;\n",
              "      height: 32px;\n",
              "      padding: 0 0 0 0;\n",
              "      width: 32px;\n",
              "    }\n",
              "\n",
              "    .colab-df-convert:hover {\n",
              "      background-color: #E2EBFA;\n",
              "      box-shadow: 0px 1px 2px rgba(60, 64, 67, 0.3), 0px 1px 3px 1px rgba(60, 64, 67, 0.15);\n",
              "      fill: #174EA6;\n",
              "    }\n",
              "\n",
              "    .colab-df-buttons div {\n",
              "      margin-bottom: 4px;\n",
              "    }\n",
              "\n",
              "    [theme=dark] .colab-df-convert {\n",
              "      background-color: #3B4455;\n",
              "      fill: #D2E3FC;\n",
              "    }\n",
              "\n",
              "    [theme=dark] .colab-df-convert:hover {\n",
              "      background-color: #434B5C;\n",
              "      box-shadow: 0px 1px 3px 1px rgba(0, 0, 0, 0.15);\n",
              "      filter: drop-shadow(0px 1px 2px rgba(0, 0, 0, 0.3));\n",
              "      fill: #FFFFFF;\n",
              "    }\n",
              "  </style>\n",
              "\n",
              "    <script>\n",
              "      const buttonEl =\n",
              "        document.querySelector('#df-ae3a410c-5a9e-4573-a103-7524d70c4412 button.colab-df-convert');\n",
              "      buttonEl.style.display =\n",
              "        google.colab.kernel.accessAllowed ? 'block' : 'none';\n",
              "\n",
              "      async function convertToInteractive(key) {\n",
              "        const element = document.querySelector('#df-ae3a410c-5a9e-4573-a103-7524d70c4412');\n",
              "        const dataTable =\n",
              "          await google.colab.kernel.invokeFunction('convertToInteractive',\n",
              "                                                    [key], {});\n",
              "        if (!dataTable) return;\n",
              "\n",
              "        const docLinkHtml = 'Like what you see? Visit the ' +\n",
              "          '<a target=\"_blank\" href=https://colab.research.google.com/notebooks/data_table.ipynb>data table notebook</a>'\n",
              "          + ' to learn more about interactive tables.';\n",
              "        element.innerHTML = '';\n",
              "        dataTable['output_type'] = 'display_data';\n",
              "        await google.colab.output.renderOutput(dataTable, element);\n",
              "        const docLink = document.createElement('div');\n",
              "        docLink.innerHTML = docLinkHtml;\n",
              "        element.appendChild(docLink);\n",
              "      }\n",
              "    </script>\n",
              "  </div>\n",
              "\n",
              "\n",
              "    <div id=\"df-bdf5eb4c-e183-4984-98a9-c75cbd7ce28e\">\n",
              "      <button class=\"colab-df-quickchart\" onclick=\"quickchart('df-bdf5eb4c-e183-4984-98a9-c75cbd7ce28e')\"\n",
              "                title=\"Suggest charts\"\n",
              "                style=\"display:none;\">\n",
              "\n",
              "<svg xmlns=\"http://www.w3.org/2000/svg\" height=\"24px\"viewBox=\"0 0 24 24\"\n",
              "     width=\"24px\">\n",
              "    <g>\n",
              "        <path d=\"M19 3H5c-1.1 0-2 .9-2 2v14c0 1.1.9 2 2 2h14c1.1 0 2-.9 2-2V5c0-1.1-.9-2-2-2zM9 17H7v-7h2v7zm4 0h-2V7h2v10zm4 0h-2v-4h2v4z\"/>\n",
              "    </g>\n",
              "</svg>\n",
              "      </button>\n",
              "\n",
              "<style>\n",
              "  .colab-df-quickchart {\n",
              "      --bg-color: #E8F0FE;\n",
              "      --fill-color: #1967D2;\n",
              "      --hover-bg-color: #E2EBFA;\n",
              "      --hover-fill-color: #174EA6;\n",
              "      --disabled-fill-color: #AAA;\n",
              "      --disabled-bg-color: #DDD;\n",
              "  }\n",
              "\n",
              "  [theme=dark] .colab-df-quickchart {\n",
              "      --bg-color: #3B4455;\n",
              "      --fill-color: #D2E3FC;\n",
              "      --hover-bg-color: #434B5C;\n",
              "      --hover-fill-color: #FFFFFF;\n",
              "      --disabled-bg-color: #3B4455;\n",
              "      --disabled-fill-color: #666;\n",
              "  }\n",
              "\n",
              "  .colab-df-quickchart {\n",
              "    background-color: var(--bg-color);\n",
              "    border: none;\n",
              "    border-radius: 50%;\n",
              "    cursor: pointer;\n",
              "    display: none;\n",
              "    fill: var(--fill-color);\n",
              "    height: 32px;\n",
              "    padding: 0;\n",
              "    width: 32px;\n",
              "  }\n",
              "\n",
              "  .colab-df-quickchart:hover {\n",
              "    background-color: var(--hover-bg-color);\n",
              "    box-shadow: 0 1px 2px rgba(60, 64, 67, 0.3), 0 1px 3px 1px rgba(60, 64, 67, 0.15);\n",
              "    fill: var(--button-hover-fill-color);\n",
              "  }\n",
              "\n",
              "  .colab-df-quickchart-complete:disabled,\n",
              "  .colab-df-quickchart-complete:disabled:hover {\n",
              "    background-color: var(--disabled-bg-color);\n",
              "    fill: var(--disabled-fill-color);\n",
              "    box-shadow: none;\n",
              "  }\n",
              "\n",
              "  .colab-df-spinner {\n",
              "    border: 2px solid var(--fill-color);\n",
              "    border-color: transparent;\n",
              "    border-bottom-color: var(--fill-color);\n",
              "    animation:\n",
              "      spin 1s steps(1) infinite;\n",
              "  }\n",
              "\n",
              "  @keyframes spin {\n",
              "    0% {\n",
              "      border-color: transparent;\n",
              "      border-bottom-color: var(--fill-color);\n",
              "      border-left-color: var(--fill-color);\n",
              "    }\n",
              "    20% {\n",
              "      border-color: transparent;\n",
              "      border-left-color: var(--fill-color);\n",
              "      border-top-color: var(--fill-color);\n",
              "    }\n",
              "    30% {\n",
              "      border-color: transparent;\n",
              "      border-left-color: var(--fill-color);\n",
              "      border-top-color: var(--fill-color);\n",
              "      border-right-color: var(--fill-color);\n",
              "    }\n",
              "    40% {\n",
              "      border-color: transparent;\n",
              "      border-right-color: var(--fill-color);\n",
              "      border-top-color: var(--fill-color);\n",
              "    }\n",
              "    60% {\n",
              "      border-color: transparent;\n",
              "      border-right-color: var(--fill-color);\n",
              "    }\n",
              "    80% {\n",
              "      border-color: transparent;\n",
              "      border-right-color: var(--fill-color);\n",
              "      border-bottom-color: var(--fill-color);\n",
              "    }\n",
              "    90% {\n",
              "      border-color: transparent;\n",
              "      border-bottom-color: var(--fill-color);\n",
              "    }\n",
              "  }\n",
              "</style>\n",
              "\n",
              "      <script>\n",
              "        async function quickchart(key) {\n",
              "          const quickchartButtonEl =\n",
              "            document.querySelector('#' + key + ' button');\n",
              "          quickchartButtonEl.disabled = true;  // To prevent multiple clicks.\n",
              "          quickchartButtonEl.classList.add('colab-df-spinner');\n",
              "          try {\n",
              "            const charts = await google.colab.kernel.invokeFunction(\n",
              "                'suggestCharts', [key], {});\n",
              "          } catch (error) {\n",
              "            console.error('Error during call to suggestCharts:', error);\n",
              "          }\n",
              "          quickchartButtonEl.classList.remove('colab-df-spinner');\n",
              "          quickchartButtonEl.classList.add('colab-df-quickchart-complete');\n",
              "        }\n",
              "        (() => {\n",
              "          let quickchartButtonEl =\n",
              "            document.querySelector('#df-bdf5eb4c-e183-4984-98a9-c75cbd7ce28e button');\n",
              "          quickchartButtonEl.style.display =\n",
              "            google.colab.kernel.accessAllowed ? 'block' : 'none';\n",
              "        })();\n",
              "      </script>\n",
              "    </div>\n",
              "\n",
              "    </div>\n",
              "  </div>\n"
            ],
            "application/vnd.google.colaboratory.intrinsic+json": {
              "type": "dataframe",
              "summary": "{\n  \"name\": \"df_fifa\",\n  \"rows\": 30,\n  \"fields\": [\n    {\n      \"column\": \"RoundID\",\n      \"properties\": {\n        \"dtype\": \"number\",\n        \"std\": 0,\n        \"min\": 255959,\n        \"max\": 255959,\n        \"num_unique_values\": 1,\n        \"samples\": [\n          255959\n        ],\n        \"semantic_type\": \"\",\n        \"description\": \"\"\n      }\n    },\n    {\n      \"column\": \"MatchID\",\n      \"properties\": {\n        \"dtype\": \"number\",\n        \"std\": 0,\n        \"min\": 300186501,\n        \"max\": 300186501,\n        \"num_unique_values\": 1,\n        \"samples\": [\n          300186501\n        ],\n        \"semantic_type\": \"\",\n        \"description\": \"\"\n      }\n    },\n    {\n      \"column\": \"Team Initials\",\n      \"properties\": {\n        \"dtype\": \"category\",\n        \"num_unique_values\": 2,\n        \"samples\": [\n          \"ARG\"\n        ],\n        \"semantic_type\": \"\",\n        \"description\": \"\"\n      }\n    },\n    {\n      \"column\": \"Coach Name\",\n      \"properties\": {\n        \"dtype\": \"category\",\n        \"num_unique_values\": 2,\n        \"samples\": [\n          \"SABELLA Alejandro (ARG)\"\n        ],\n        \"semantic_type\": \"\",\n        \"description\": \"\"\n      }\n    },\n    {\n      \"column\": \"Line-up\",\n      \"properties\": {\n        \"dtype\": \"category\",\n        \"num_unique_values\": 2,\n        \"samples\": [\n          \"N\"\n        ],\n        \"semantic_type\": \"\",\n        \"description\": \"\"\n      }\n    },\n    {\n      \"column\": \"Shirt Number\",\n      \"properties\": {\n        \"dtype\": \"number\",\n        \"std\": 6,\n        \"min\": 2,\n        \"max\": 23,\n        \"num_unique_values\": 20,\n        \"samples\": [\n          18\n        ],\n        \"semantic_type\": \"\",\n        \"description\": \"\"\n      }\n    },\n    {\n      \"column\": \"Player Name\",\n      \"properties\": {\n        \"dtype\": \"string\",\n        \"num_unique_values\": 30,\n        \"samples\": [\n          \"AGUERO\"\n        ],\n        \"semantic_type\": \"\",\n        \"description\": \"\"\n      }\n    },\n    {\n      \"column\": \"Position\",\n      \"properties\": {\n        \"dtype\": \"category\",\n        \"num_unique_values\": 1,\n        \"samples\": [\n          \"GK\"\n        ],\n        \"semantic_type\": \"\",\n        \"description\": \"\"\n      }\n    },\n    {\n      \"column\": \"Event\",\n      \"properties\": {\n        \"dtype\": \"category\",\n        \"num_unique_values\": 8,\n        \"samples\": [\n          \"OH46'\"\n        ],\n        \"semantic_type\": \"\",\n        \"description\": \"\"\n      }\n    }\n  ]\n}"
            }
          },
          "metadata": {},
          "execution_count": 24
        }
      ]
    },
    {
      "cell_type": "markdown",
      "source": [
        "3. Inicio de utilizar pandas (valores nulos y y tipos de datos)"
      ],
      "metadata": {
        "id": "EuI2y6NUbV6L"
      }
    },
    {
      "cell_type": "code",
      "source": [
        "# Verificar si hay valores nulos en cada columna\n",
        "print(\"Missing values before cleaning:\")\n",
        "print(df.isnull().sum())\n",
        "\n",
        "# Mostrar los tipos de datos de cada columna\n",
        "print(\"\\nData types:\")\n",
        "print(df.dtypes)\n",
        "\n"
      ],
      "metadata": {
        "colab": {
          "base_uri": "https://localhost:8080/"
        },
        "id": "wPVWKItYbc_I",
        "outputId": "9124540a-91cc-4c78-ef45-4b570b24fa89"
      },
      "execution_count": null,
      "outputs": [
        {
          "output_type": "stream",
          "name": "stdout",
          "text": [
            "Missing values before cleaning:\n",
            "RoundID              0\n",
            "MatchID              0\n",
            "Team Initials        0\n",
            "Coach Name           0\n",
            "Line-up              0\n",
            "Shirt Number         0\n",
            "Player Name          0\n",
            "Position         33641\n",
            "Event            28715\n",
            "dtype: int64\n",
            "\n",
            "Data types:\n",
            "RoundID           int64\n",
            "MatchID           int64\n",
            "Team Initials    object\n",
            "Coach Name       object\n",
            "Line-up          object\n",
            "Shirt Number      int64\n",
            "Player Name      object\n",
            "Position         object\n",
            "Event            object\n",
            "dtype: object\n",
            "\n",
            "Missing values after removing rows with null Position:\n",
            "RoundID             0\n",
            "MatchID             0\n",
            "Team Initials       0\n",
            "Coach Name          0\n",
            "Line-up             0\n",
            "Shirt Number        0\n",
            "Player Name         0\n",
            "Position            0\n",
            "Event            3570\n",
            "dtype: int64\n",
            "\n",
            "DataFrame Info after cleaning:\n",
            "<class 'pandas.core.frame.DataFrame'>\n",
            "Index: 4143 entries, 0 to 37763\n",
            "Data columns (total 9 columns):\n",
            " #   Column         Non-Null Count  Dtype \n",
            "---  ------         --------------  ----- \n",
            " 0   RoundID        4143 non-null   int64 \n",
            " 1   MatchID        4143 non-null   int64 \n",
            " 2   Team Initials  4143 non-null   object\n",
            " 3   Coach Name     4143 non-null   object\n",
            " 4   Line-up        4143 non-null   object\n",
            " 5   Shirt Number   4143 non-null   int64 \n",
            " 6   Player Name    4143 non-null   object\n",
            " 7   Position       4143 non-null   object\n",
            " 8   Event          573 non-null    object\n",
            "dtypes: int64(3), object(6)\n",
            "memory usage: 323.7+ KB\n"
          ]
        }
      ]
    },
    {
      "cell_type": "markdown",
      "source": [
        "4. Añadir posición a los jugadores"
      ],
      "metadata": {
        "id": "bfnILLPQhr6P"
      }
    },
    {
      "cell_type": "code",
      "source": [
        "# Fill missing values in 'Position' with 'MF/ST'\n",
        "df['Position'].fillna('MF/ST', inplace=True)\n",
        "\n",
        "# Verify the changes\n",
        "print(\"Missing values after filling:\")\n",
        "print(df.isnull().sum())"
      ],
      "metadata": {
        "colab": {
          "base_uri": "https://localhost:8080/"
        },
        "id": "oF0IymkbhvrX",
        "outputId": "fabcb80b-7272-4b28-e1e9-f0361749d6ec"
      },
      "execution_count": null,
      "outputs": [
        {
          "output_type": "stream",
          "name": "stdout",
          "text": [
            "Missing values after filling:\n",
            "RoundID             0\n",
            "MatchID             0\n",
            "Team Initials       0\n",
            "Coach Name          0\n",
            "Line-up             0\n",
            "Shirt Number        0\n",
            "Player Name         0\n",
            "Position            0\n",
            "Event            3570\n",
            "dtype: int64\n"
          ]
        },
        {
          "output_type": "stream",
          "name": "stderr",
          "text": [
            "/tmp/ipython-input-3501181911.py:2: FutureWarning: A value is trying to be set on a copy of a DataFrame or Series through chained assignment using an inplace method.\n",
            "The behavior will change in pandas 3.0. This inplace method will never work because the intermediate object on which we are setting values always behaves as a copy.\n",
            "\n",
            "For example, when doing 'df[col].method(value, inplace=True)', try using 'df.method({col: value}, inplace=True)' or df[col] = df[col].method(value) instead, to perform the operation inplace on the original object.\n",
            "\n",
            "\n",
            "  df['Position'].fillna('MF/ST', inplace=True)\n"
          ]
        }
      ]
    },
    {
      "cell_type": "markdown",
      "metadata": {
        "id": "53f2e3f5"
      },
      "source": [
        "5. Limpieza de datos con pandas"
      ]
    },
    {
      "cell_type": "code",
      "metadata": {
        "id": "a0a1a314",
        "colab": {
          "base_uri": "https://localhost:8080/"
        },
        "outputId": "117b9ea1-42c9-4dd5-ebba-8bc5431839e9"
      },
      "source": [
        "df.dropna(subset=['Position'], inplace=True)\n",
        "\n",
        "# Convertir la columna 'Shirt Number' a tipo entero, manejando posibles errores\n",
        "df['Shirt Number'] = pd.to_numeric(df['Shirt Number'], errors='coerce').fillna(0).astype(int)\n",
        "\n",
        "# Verificar si hay valores nulos después de eliminar filas\n",
        "print(\"\\nMissing values after removing rows with null Position:\")\n",
        "print(df.isnull().sum())\n",
        "\n",
        "# Mostrar información del DataFrame después de la limpieza\n",
        "print(\"\\nDataFrame Info after cleaning:\")\n",
        "df.info()"
      ],
      "execution_count": null,
      "outputs": [
        {
          "output_type": "stream",
          "name": "stdout",
          "text": [
            "\n",
            "Missing values after removing rows with null Position:\n",
            "RoundID             0\n",
            "MatchID             0\n",
            "Team Initials       0\n",
            "Coach Name          0\n",
            "Line-up             0\n",
            "Shirt Number        0\n",
            "Player Name         0\n",
            "Position            0\n",
            "Event            3570\n",
            "dtype: int64\n",
            "\n",
            "DataFrame Info after cleaning:\n",
            "<class 'pandas.core.frame.DataFrame'>\n",
            "Index: 4143 entries, 0 to 37763\n",
            "Data columns (total 9 columns):\n",
            " #   Column         Non-Null Count  Dtype \n",
            "---  ------         --------------  ----- \n",
            " 0   RoundID        4143 non-null   int64 \n",
            " 1   MatchID        4143 non-null   int64 \n",
            " 2   Team Initials  4143 non-null   object\n",
            " 3   Coach Name     4143 non-null   object\n",
            " 4   Line-up        4143 non-null   object\n",
            " 5   Shirt Number   4143 non-null   int64 \n",
            " 6   Player Name    4143 non-null   object\n",
            " 7   Position       4143 non-null   object\n",
            " 8   Event          573 non-null    object\n",
            "dtypes: int64(3), object(6)\n",
            "memory usage: 323.7+ KB\n"
          ]
        }
      ]
    },
    {
      "cell_type": "markdown",
      "source": [
        "#Preguntas y respuestas\n",
        "\n",
        "1. ¿Qué categorías o valores aparecen con mayor frecuencia?"
      ],
      "metadata": {
        "id": "xexKQTiAeDTC"
      }
    },
    {
      "cell_type": "code",
      "source": [
        "for column in df.columns:\n",
        "    print(f\"\\nMost frequent values in '{column}':\")\n",
        "    print(df[column].value_counts().head())"
      ],
      "metadata": {
        "colab": {
          "base_uri": "https://localhost:8080/"
        },
        "id": "SoFRs14UeUON",
        "outputId": "7c298a49-f3fd-4b26-c900-c36d232f0a12"
      },
      "execution_count": null,
      "outputs": [
        {
          "output_type": "stream",
          "name": "stdout",
          "text": [
            "\n",
            "Most frequent values in 'RoundID':\n",
            "RoundID\n",
            "255931      369\n",
            "249722      354\n",
            "43950100    289\n",
            "97410100    259\n",
            "1014        196\n",
            "Name: count, dtype: int64\n",
            "\n",
            "Most frequent values in 'MatchID':\n",
            "MatchID\n",
            "300186497    16\n",
            "300186460    16\n",
            "300186461    16\n",
            "300186488    16\n",
            "300186502    16\n",
            "Name: count, dtype: int64\n",
            "\n",
            "Most frequent values in 'Team Initials':\n",
            "Team Initials\n",
            "BRA    253\n",
            "ARG    213\n",
            "ITA    180\n",
            "NED    152\n",
            "FRG    151\n",
            "Name: count, dtype: int64\n",
            "\n",
            "Most frequent values in 'Coach Name':\n",
            "Coach Name\n",
            "SCOLARI Luiz Felipe (BRA)        82\n",
            "LOEW Joachim (GER)               72\n",
            "SCHOEN Helmut (FRG)              72\n",
            "PARREIRA Carlos Alberto (BRA)    55\n",
            "TABAREZ Oscar (URU)              54\n",
            "Name: count, dtype: int64\n",
            "\n",
            "Most frequent values in 'Line-up':\n",
            "Line-up\n",
            "S    3214\n",
            "N     929\n",
            "Name: count, dtype: int64\n",
            "\n",
            "Most frequent values in 'Shirt Number':\n",
            "Shirt Number\n",
            "1     1293\n",
            "12     350\n",
            "0      284\n",
            "22     276\n",
            "10     207\n",
            "Name: count, dtype: int64\n",
            "\n",
            "Most frequent values in 'Player Name':\n",
            "Player Name\n",
            "Sepp MAIER    19\n",
            "TAFFAREL      18\n",
            "NEUER         18\n",
            "Dino ZOFF     18\n",
            "VORM          18\n",
            "Name: count, dtype: int64\n",
            "\n",
            "Most frequent values in 'Position':\n",
            "Position\n",
            "GK     2441\n",
            "C      1510\n",
            "GKC     192\n",
            "Name: count, dtype: int64\n",
            "\n",
            "Most frequent values in 'Event':\n",
            "Event\n",
            "Y90'     16\n",
            "Y1'      14\n",
            "OH46'    12\n",
            "Y65'      6\n",
            "O46'      6\n",
            "Name: count, dtype: int64\n"
          ]
        }
      ]
    },
    {
      "cell_type": "markdown",
      "source": [
        "2. ¿Qué variable parece tener más influencia sobre el resultado principal?"
      ],
      "metadata": {
        "id": "8JIvB_ICedBO"
      }
    },
    {
      "cell_type": "code",
      "source": [
        "# La columna 'Event' parece ser la más relevante para los resultados en el juego.\n",
        "# Analicemos la frecuencia de los diferentes eventos.\n",
        "print(\"\\nFrecuencia de eventos:\")\n",
        "print(df['Event'].value_counts().head())\n",
        "\n",
        "# Se necesitaría un análisis más profundo para determinar la influencia real de cada variable en los resultados de los partidos.\n",
        "# Esto podría implicar buscar correlaciones entre las variables y los resultados de los partidos (si están disponibles),\n",
        "# o construir modelos predictivos."
      ],
      "metadata": {
        "colab": {
          "base_uri": "https://localhost:8080/"
        },
        "id": "35AkdODVej5r",
        "outputId": "410e8205-4cc0-4081-cc7b-ab47a7818c34"
      },
      "execution_count": null,
      "outputs": [
        {
          "output_type": "stream",
          "name": "stdout",
          "text": [
            "\n",
            "Frecuencia de eventos:\n",
            "Event\n",
            "Y90'     16\n",
            "Y1'      14\n",
            "OH46'    12\n",
            "Y65'      6\n",
            "O46'      6\n",
            "Name: count, dtype: int64\n"
          ]
        }
      ]
    },
    {
      "cell_type": "markdown",
      "metadata": {
        "id": "0724e2e6"
      },
      "source": [
        "**3**. ¿Cuál es el número de camiseta promedio de los jugadores en el dataset?"
      ]
    },
    {
      "cell_type": "code",
      "metadata": {
        "colab": {
          "base_uri": "https://localhost:8080/"
        },
        "id": "d968b9c1",
        "outputId": "efd5c85c-6ded-483a-813a-7886c7e17e40"
      },
      "source": [
        "import numpy as np\n",
        "\n",
        "# Calculate the average shirt number using numpy's mean function and convert to integer\n",
        "average_shirt_number = np.mean(df['Shirt Number']).astype(int)\n",
        "\n",
        "print(f\"El promedio del número de camiseta es: {average_shirt_number}\")"
      ],
      "execution_count": null,
      "outputs": [
        {
          "output_type": "stream",
          "name": "stdout",
          "text": [
            "El promedio del número de camiseta es: 7\n"
          ]
        }
      ]
    },
    {
      "cell_type": "markdown",
      "source": [
        "**4.** ¿Qué porcentaje de Número de camiseta es mayor al promedio?"
      ],
      "metadata": {
        "id": "U-5S0MPBgZFE"
      }
    },
    {
      "cell_type": "code",
      "metadata": {
        "colab": {
          "base_uri": "https://localhost:8080/"
        },
        "id": "669d99fc",
        "outputId": "9620f369-28ea-41e2-a31e-f2c4f72fa3a1"
      },
      "source": [
        "# Contar el número de jugadores con un número de camiseta mayor que el promedio\n",
        "players_above_average = np.sum(df['Shirt Number'] > average_shirt_number)\n",
        "\n",
        "# Calcular el porcentaje\n",
        "percentage_above_average = (players_above_average / len(df)) * 100\n",
        "\n",
        "print(f\"El porcentaje de jugadores con un número de camiseta superior al promedio ({average_shirt_number:.2f}) es: {percentage_above_average:.2f}%\")"
      ],
      "execution_count": null,
      "outputs": [
        {
          "output_type": "stream",
          "name": "stdout",
          "text": [
            "El porcentaje de jugadores con un número de camiseta superior al promedio (7.00) es: 43.64%\n"
          ]
        }
      ]
    },
    {
      "cell_type": "markdown",
      "source": [
        "5. ¿Se pueden extraer patrones temporales por RoundID / MatchID (p. ej. mayor número de eventos en determinadas rondas)? (Extras) Si tuviéramos la columna Position completa: ¿qué posiciones aparecen con más frecuencia por equipo?"
      ],
      "metadata": {
        "id": "Zuq7ccdPneFk"
      }
    },
    {
      "cell_type": "code",
      "source": [
        "# Análisis de patrones temporales por RoundID (conteo de eventos por ronda)\n",
        "print(\"Número de eventos por RoundID:\")\n",
        "events_per_round = df.groupby('RoundID')['Event'].count().sort_values(ascending=False)\n",
        "print(events_per_round.head())\n",
        "\n",
        "# Análisis de posiciones más frecuentes por equipo\n",
        "print(\"\\nPosiciones más frecuentes por equipo:\")\n",
        "# Agrupar por equipo y posición, contar ocurrencias y encontrar la posición más frecuente por equipo\n",
        "most_frequent_position_by_team = df.groupby('Team Initials')['Position'].agg(lambda x: x.mode()[0] if not x.mode().empty else 'N/A')\n",
        "print(most_frequent_position_by_team.head())"
      ],
      "metadata": {
        "colab": {
          "base_uri": "https://localhost:8080/"
        },
        "id": "UEjsc0YungCq",
        "outputId": "d347dcd6-1d35-46e8-8bfb-3b807cee2be1"
      },
      "execution_count": 25,
      "outputs": [
        {
          "output_type": "stream",
          "name": "stdout",
          "text": [
            "Número de eventos por RoundID:\n",
            "RoundID\n",
            "97410100    51\n",
            "255931      44\n",
            "249722      39\n",
            "43950100    39\n",
            "1014        38\n",
            "Name: Event, dtype: int64\n",
            "\n",
            "Posiciones más frecuentes por equipo:\n",
            "Team Initials\n",
            "ALG    GK\n",
            "ANG    GK\n",
            "ARG    GK\n",
            "AUS    GK\n",
            "AUT    GK\n",
            "Name: Position, dtype: object\n"
          ]
        }
      ]
    },
    {
      "cell_type": "markdown",
      "source": [
        "6. ¿Qué proporción de registros corresponde a jugadores listados en la alineación (Line-up) frente a registros de eventos (Event)?"
      ],
      "metadata": {
        "id": "WoQ77fZ5nv3e"
      }
    },
    {
      "cell_type": "code",
      "source": [
        "# Contar el número total de registros\n",
        "total_records = len(df)\n",
        "\n",
        "# Contar el número de registros con jugadores en la alineación (Line-up = 'S')\n",
        "lineup_records = df[df['Line-up'] == 'S'].shape[0]\n",
        "\n",
        "# Contar el número de registros con eventos (Event no nulo)\n",
        "event_records = df.dropna(subset=['Event']).shape[0]\n",
        "\n",
        "# Calcular las proporciones\n",
        "proportion_lineup = (lineup_records / total_records) * 100\n",
        "proportion_event = (event_records / total_records) * 100\n",
        "\n",
        "print(f\"Proporción de registros de jugadores en la alineación: {proportion_lineup:.2f}%\")\n",
        "print(f\"Proporción de registros con eventos: {proportion_event:.2f}%\")"
      ],
      "metadata": {
        "colab": {
          "base_uri": "https://localhost:8080/"
        },
        "id": "KkFt3l2In1f5",
        "outputId": "9919dba2-2484-4b9b-a412-a56fb2550a8e"
      },
      "execution_count": 27,
      "outputs": [
        {
          "output_type": "stream",
          "name": "stdout",
          "text": [
            "Proporción de registros de jugadores en la alineación: 77.58%\n",
            "Proporción de registros con eventos: 13.83%\n"
          ]
        }
      ]
    },
    {
      "cell_type": "markdown",
      "source": [
        "#Creación de gráficos\n",
        "\n",
        "1. Gráfica 1: Distribución de jugadores por posición"
      ],
      "metadata": {
        "id": "rtrSVtEAgoEj"
      }
    },
    {
      "cell_type": "code",
      "source": [
        "# Crear un gráfico de barras para visualizar la distribución de jugadores por posición.\n",
        "plt.figure(figsize=(8, 6)) # Definir el tamaño de la figura\n",
        "sns.countplot(data=df, x='Position', hue='Position', palette='viridis', legend=False) # Crear el gráfico de conteo, usando 'Position' para el hue y deshabilitando la leyenda\n",
        "plt.title('Distribución de Jugadores por Posición') # Establecer el título del gráfico\n",
        "plt.xlabel('Posición') # Establecer la etiqueta del eje x\n",
        "plt.ylabel('Número de Jugadores') # Establecer la etiqueta del eje y\n",
        "plt.show() # Mostrar el gráfico"
      ],
      "metadata": {
        "colab": {
          "base_uri": "https://localhost:8080/",
          "height": 652
        },
        "id": "KgBIesTNgtaM",
        "outputId": "b5446d83-1a51-4a44-a9ca-0be3c5bd30cf"
      },
      "execution_count": null,
      "outputs": [
        {
          "output_type": "stream",
          "name": "stderr",
          "text": [
            "/tmp/ipython-input-2838573270.py:3: FutureWarning: \n",
            "\n",
            "Passing `palette` without assigning `hue` is deprecated and will be removed in v0.14.0. Assign the `x` variable to `hue` and set `legend=False` for the same effect.\n",
            "\n",
            "  sns.countplot(data=df, x='Position', palette='viridis') # Crear el gráfico de conteo\n"
          ]
        },
        {
          "output_type": "display_data",
          "data": {
            "text/plain": [
              "<Figure size 800x600 with 1 Axes>"
            ],
            "image/png": "[encoded data removed]"
          },
          "metadata": {}
        }
      ]
    },
    {
      "cell_type": "markdown",
      "metadata": {
        "id": "f3b9b415"
      },
      "source": [
        "Gráfica 2: Distribución de Jugadores por Equipo (Top 10)"
      ]
    },
    {
      "cell_type": "code",
      "metadata": {
        "colab": {
          "base_uri": "https://localhost:8080/",
          "height": 607
        },
        "id": "601c5503",
        "outputId": "ca9a9bcc-d768-4d8a-8b51-ac0d09c23f44"
      },
      "source": [
        "# Obtener los 10 equipos con más jugadores\n",
        "top_teams = df['Team Initials'].value_counts().nlargest(10).index\n",
        "\n",
        "# Filtrar el DataFrame para incluir solo los jugadores de los equipos principales\n",
        "df_top_teams = df[df['Team Initials'].isin(top_teams)]\n",
        "\n",
        "# Crear un gráfico de barras para visualizar la distribución de jugadores por equipo\n",
        "plt.figure(figsize=(12, 6)) # Definir el tamaño de la figura\n",
        "sns.countplot(data=df_top_teams, x='Team Initials', order=top_teams, palette='viridis', hue='Team Initials', legend=False) # Crear el gráfico de conteo\n",
        "plt.title('Distribución de Jugadores por Equipo (Top 10)') # Establecer el título del gráfico\n",
        "plt.xlabel('Iniciales del Equipo') # Establecer la etiqueta del eje x\n",
        "plt.ylabel('Número de Jugadores') # Establecer la etiqueta del eje y\n",
        "plt.xticks(rotation=45, ha='right') # Rotar las etiquetas del eje x para mayor legibilidad\n",
        "plt.tight_layout() # Ajustar el diseño para evitar la superposición de etiquetas\n",
        "plt.show() # Mostrar el gráfico"
      ],
      "execution_count": null,
      "outputs": [
        {
          "output_type": "display_data",
          "data": {
            "text/plain": [
              "<Figure size 1200x600 with 1 Axes>"
            ],
            "image/png": "[encoded data removed]"
          },
          "metadata": {}
        }
      ]
    },
    {
      "cell_type": "markdown",
      "metadata": {
        "id": "8bbde688"
      },
      "source": [
        "Gráfica 3: Proporción de Registros por Tipo"
      ]
    },
    {
      "cell_type": "code",
      "source": [
        "# Crear etiquetas y tamaños para el gráfico de pastel\n",
        "labels = ['Jugadores en Alineación', 'Registros con Eventos']\n",
        "sizes = [proportion_lineup, proportion_event]\n",
        "colors = ['#ff9999','#66b3ff'] # Colores para las secciones\n",
        "\n",
        "# Crear el gráfico de pastel\n",
        "plt.figure(figsize=(8, 8)) # Definir el tamaño de la figura\n",
        "plt.pie(sizes, labels=labels, colors=colors, autopct='%1.1f%%', startangle=90) # Crear el gráfico de pastel\n",
        "plt.title('Proporción de Registros: Alineación vs. Eventos') # Establecer el título\n",
        "plt.axis('equal')  # Asegurar que el gráfico de pastel sea un círculo.\n",
        "plt.show() # Mostrar el gráfico"
      ],
      "metadata": {
        "colab": {
          "base_uri": "https://localhost:8080/",
          "height": 675
        },
        "id": "I6Ke1GxcoGWD",
        "outputId": "b763ce3a-2a26-42d6-b941-e6c8307c78aa"
      },
      "execution_count": 28,
      "outputs": [
        {
          "output_type": "display_data",
          "data": {
            "text/plain": [
              "<Figure size 800x800 with 1 Axes>"
            ],
            "image/png": "[encoded data removed]"
          },
          "metadata": {}
        }
      ]
    },
    {
      "cell_type": "markdown",
      "source": [
        "**5) Conclusiones y reflexión**"
      ],
      "metadata": {
        "id": "dtFP1gd8kulB"
      }
    },
    {
      "cell_type": "markdown",
      "source": [
        "**•\t¿Qué aprendí al explorar este dataset?**\n",
        "El archivo contiene registros de jugadores por partido/plantilla para competiciones (World Cup). Es fuerte en metadatos de partido (RoundID, MatchID, Team Initials) pero tiene muchos campos vacíos en columnas que describirían detalles de posición o eventos (Position, Event). Esto limita algunos análisis típicos sobre desempeño/atributos de jugadores.\n",
        "\n",
        "\n",
        "**•\tResultados interesantes o inesperados:**\n",
        "La cantidad de valores faltantes en Position y Event es alta (33k y 28k), lo que sugiere que el dataset mezcla filas con distinto nivel de granularidad (plantillas vs. eventos específicos). No existen columnas de “rating” en este CSV, por lo que no es comparable a los típicos datasets de FIFA Players que contienen overall, potential, age, etc.\n",
        "\n",
        "\n",
        "**•\tSi tuviera más tiempo o más datos, haría:**\n",
        "o\tBuscar/combinar con otro CSV de FIFA que tenga atributos por jugador (edad, overall, club, nacionalidad) y unir por Player Name para analizar desempeño/atributos.\n",
        "o\tLimpiar y reestructurar la columna Line-up para extraer los jugadores listados y normalizar Position.\n",
        "o\tAnalizar eventos por MatchID y construir un contador de eventos por jugador (si Event se completa en otras filas).\n"
      ],
      "metadata": {
        "id": "hAL8iVDXkyGG"
      }
    }
  ]
}